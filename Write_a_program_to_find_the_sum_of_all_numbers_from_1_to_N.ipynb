{
  "nbformat": 4,
  "nbformat_minor": 0,
  "metadata": {
    "colab": {
      "provenance": []
    },
    "kernelspec": {
      "name": "python3",
      "display_name": "Python 3"
    },
    "language_info": {
      "name": "python"
    }
  },
  "cells": [
    {
      "cell_type": "markdown",
      "source": [
        " **General approach to solve**\n"
      ],
      "metadata": {
        "id": "6aRY_S_aTTSK"
      }
    },
    {
      "cell_type": "code",
      "execution_count": 3,
      "metadata": {
        "colab": {
          "base_uri": "https://localhost:8080/"
        },
        "id": "Xu70PdGoQO9R",
        "outputId": "571e7a3b-96da-4a42-898d-890f88f95d40"
      },
      "outputs": [
        {
          "output_type": "stream",
          "name": "stdout",
          "text": [
            "Enter a Number to do sum from 1: 10\n",
            "Sum of value 1 to 10 is = 55\n"
          ]
        }
      ],
      "source": [
        "n = int(input(('Enter a Number to do sum from 1: '))) # --> taking input to sum in range 1 to input value\n",
        "sum = 0 # --> sum variable to store the sum value\n",
        "\n",
        "for i in range(1,n+1): # --> i will start from 1 and will continue till n value\n",
        "  sum += i # --> sum = sum + i\n",
        "\n",
        "print(\"Sum of value 1 to\",n, 'is =', sum)\n"
      ]
    },
    {
      "cell_type": "markdown",
      "source": [
        "**Optimum way OR using formula**"
      ],
      "metadata": {
        "id": "jcWo49AMTn_M"
      }
    },
    {
      "cell_type": "code",
      "source": [
        "n = int(input(('Enter a Number to do sum from 1: '))) # --> taking input to sum in range 1 to input value\n",
        "\n",
        "sum = n*(n+1) // 2 #formula\n",
        "\n",
        "print(\"Sum of value 1 to\",n, 'is =', sum)"
      ],
      "metadata": {
        "colab": {
          "base_uri": "https://localhost:8080/"
        },
        "id": "k0AVfXYKTwjb",
        "outputId": "6ce1fe57-c465-4aa1-f881-408f5f800743"
      },
      "execution_count": 4,
      "outputs": [
        {
          "output_type": "stream",
          "name": "stdout",
          "text": [
            "Enter a Number to do sum from 1: 10\n",
            "Sum of value 1 to 10 is = 55\n"
          ]
        }
      ]
    }
  ]
}